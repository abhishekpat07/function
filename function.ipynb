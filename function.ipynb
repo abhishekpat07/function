{
  "nbformat": 4,
  "nbformat_minor": 0,
  "metadata": {
    "colab": {
      "provenance": []
    },
    "kernelspec": {
      "name": "python3",
      "display_name": "Python 3"
    },
    "language_info": {
      "name": "python"
    }
  },
  "cells": [
    {
      "cell_type": "markdown",
      "source": [
        "#Function"
      ],
      "metadata": {
        "id": "kQ6ZRs_81b6J"
      }
    },
    {
      "cell_type": "markdown",
      "source": [
        "#1. What is the difference between a function and a method in Python?\n",
        "- A function is a block of reusable code that performs a specific task. It can be defined using the def keyword and can be called independently.\n",
        "- A method is a function that is associated with an object (usually an instance of a class). Methods are invoked on objects and typically operate on data contained within the object."
      ],
      "metadata": {
        "id": "8RO79umz1usX"
      }
    },
    {
      "cell_type": "code",
      "source": [
        "# Function Example\n",
        "def greet():\n",
        "    print(\"Hello, World!\")\n",
        "\n",
        "greet()  # Calling a function\n",
        "\n",
        "# Method Example\n",
        "class Greeter:\n",
        "    def greet(self):  # 'self' refers to the instance of the class\n",
        "        print(\"Hello from the method!\")\n",
        "\n",
        "greeter = Greeter()\n",
        "greeter.greet()  # Calling a method using an object\n"
      ],
      "metadata": {
        "colab": {
          "base_uri": "https://localhost:8080/"
        },
        "id": "myI5vndy1uXF",
        "outputId": "8596897a-19fa-435b-b950-39f24fcc2667"
      },
      "execution_count": 2,
      "outputs": [
        {
          "output_type": "stream",
          "name": "stdout",
          "text": [
            "Hello, World!\n",
            "Hello from the method!\n"
          ]
        }
      ]
    },
    {
      "cell_type": "markdown",
      "source": [
        "#2.  Explain the concept of function arguments and parameters in Python.\n",
        "-Arguments are the actual values or data that are passed to the function when it is called. These values correspond to the parameters defined in the function.\n",
        "-Parameters are variables that are defined in the function signature (the function's definition). They act as placeholders for the values that will be passed into the function when it is called."
      ],
      "metadata": {
        "id": "qjpQf93f2bIn"
      }
    },
    {
      "cell_type": "code",
      "source": [
        "def describe_person(name, age=30, *hobbies, **extra_info):\n",
        "    print(f\"Name: {name}, Age: {age}\")\n",
        "    if hobbies:\n",
        "        print(f\"Hobbies: {', '.join(hobbies)}\")\n",
        "    if extra_info:\n",
        "        print(\"Additional Info:\")\n",
        "        for key, value in extra_info.items():\n",
        "            print(f\"{key}: {value}\")\n",
        "\n",
        "describe_person(\"Neha\", 25, \"Cycling\", \"wating sport\", occupation=\"Engineer\", city=\"Delhi\")\n"
      ],
      "metadata": {
        "colab": {
          "base_uri": "https://localhost:8080/"
        },
        "id": "RuWtmOJm3Bor",
        "outputId": "0715f462-65a2-42b0-9d6e-4ba542a37f86"
      },
      "execution_count": 3,
      "outputs": [
        {
          "output_type": "stream",
          "name": "stdout",
          "text": [
            "Name: Neha, Age: 25\n",
            "Hobbies: Cycling, wating sport\n",
            "Additional Info:\n",
            "occupation: Engineer\n",
            "city: Delhi\n"
          ]
        }
      ]
    },
    {
      "cell_type": "markdown",
      "source": [
        "#3. What are the different ways to define and call a function in Python.\n",
        "\n"
      ],
      "metadata": {
        "id": "3adcC0pF3oh4"
      }
    },
    {
      "cell_type": "code",
      "source": [
        "#1.Standard Function Definition\n",
        "\n",
        "def greet(name):\n",
        "    return f\"Hello, {name}!\"\n",
        "\n",
        "# Calling the function\n",
        "print(greet(\"Abhishek\"))\n"
      ],
      "metadata": {
        "id": "R3Cdy70Y3RQ7"
      },
      "execution_count": null,
      "outputs": []
    },
    {
      "cell_type": "code",
      "source": [
        "#2. Functions with Default Arguments\n",
        "\n",
        "def greet(name=\"Guest\"):\n",
        "    return f\"Hello, {name}!\"\n",
        "\n",
        "print(greet())\n",
        "print(greet(\"Abhishek\"))\n"
      ],
      "metadata": {
        "id": "2Y_qSP_16NpB"
      },
      "execution_count": null,
      "outputs": []
    },
    {
      "cell_type": "code",
      "source": [
        "#3. Functions with Variable-Length Arguments\n",
        "\n",
        "def add_numbers(*args):\n",
        "    return sum(args)\n",
        "\n",
        "# Calling the function\n",
        "print(add_numbers(1, 2, 3, 4))\n"
      ],
      "metadata": {
        "id": "Pns0AF5Q6qQl"
      },
      "execution_count": null,
      "outputs": []
    },
    {
      "cell_type": "code",
      "source": [
        "#4. Lambda Functions (Anonymous Functions)\n",
        "\n",
        "square = lambda x: x ** 2\n",
        "print(square(4))  # Output: 16\n"
      ],
      "metadata": {
        "id": "dVACSKD_60a8"
      },
      "execution_count": null,
      "outputs": []
    },
    {
      "cell_type": "code",
      "source": [
        "#5. Nested Functions\n",
        "\n",
        "def outer_function(name):\n",
        "    def inner_function():\n",
        "        return f\"Hello, {name}!\"\n",
        "    return inner_function()\n",
        "\n",
        "# Calling the function\n",
        "print(outer_function(\"Abhishek\"))\n"
      ],
      "metadata": {
        "id": "8Kzrq9zF68gw"
      },
      "execution_count": null,
      "outputs": []
    },
    {
      "cell_type": "code",
      "source": [
        "#6. Recursive Functions\n",
        "\n",
        "def factorial(n):\n",
        "    if n == 0:\n",
        "        return 1\n",
        "    return n * factorial(n - 1)\n",
        "\n",
        "# Calling the function\n",
        "print(factorial(5))\n"
      ],
      "metadata": {
        "id": "3bGbF6HW7vfi"
      },
      "execution_count": null,
      "outputs": []
    },
    {
      "cell_type": "code",
      "source": [
        "#7. Built-in Functions\n",
        "\n",
        "print(len(\"Hello\"))\n"
      ],
      "metadata": {
        "id": "c47Lc2DG7724"
      },
      "execution_count": null,
      "outputs": []
    },
    {
      "cell_type": "markdown",
      "source": [
        "#4. What is the purpose of the `return` statement in a Python function.\n",
        "- The return statement in Python is used to send a result back to the caller of the function. Its primary purpose is to specify the value that a function produces as output. Here are key details about the return statement:"
      ],
      "metadata": {
        "id": "5V8BHI0N8HKC"
      }
    },
    {
      "cell_type": "code",
      "source": [
        "#1. Return a Value\n",
        "\n",
        "def add(a, b):\n",
        "    return a + b\n",
        "\n",
        "# Calling the function\n",
        "result = add(3, 5)\n",
        "print(result)\n"
      ],
      "metadata": {
        "colab": {
          "base_uri": "https://localhost:8080/"
        },
        "id": "b10bxkvM-AWA",
        "outputId": "626dc962-79b9-449c-b266-4c94b5cbb183"
      },
      "execution_count": 4,
      "outputs": [
        {
          "output_type": "stream",
          "name": "stdout",
          "text": [
            "8\n"
          ]
        }
      ]
    },
    {
      "cell_type": "code",
      "source": [
        "#2. Exit the Function\n",
        "\n",
        "def check_number(num):\n",
        "    if num > 0:\n",
        "        return \"Positive\"\n",
        "    return \"Non-positive\"\n",
        "\n",
        "# Calling the function\n",
        "print(check_number(10))\n"
      ],
      "metadata": {
        "colab": {
          "base_uri": "https://localhost:8080/"
        },
        "id": "ZvcE3qUP-LCO",
        "outputId": "0216b547-6fb1-4947-b956-4d5ed37befe4"
      },
      "execution_count": 5,
      "outputs": [
        {
          "output_type": "stream",
          "name": "stdout",
          "text": [
            "Positive\n"
          ]
        }
      ]
    },
    {
      "cell_type": "code",
      "source": [
        "#3. Returning Multiple Values\n",
        "\n",
        "def get_person():\n",
        "    name = \"Abhishek\"\n",
        "    age = 25\n",
        "    return name, age\n",
        "\n",
        "# Calling the function\n",
        "name, age = get_person()\n",
        "print(name)\n",
        "print(age)\n"
      ],
      "metadata": {
        "colab": {
          "base_uri": "https://localhost:8080/"
        },
        "id": "HIF4n7C--gk5",
        "outputId": "8d367267-5135-411e-eb62-a9c45b9e180d"
      },
      "execution_count": 7,
      "outputs": [
        {
          "output_type": "stream",
          "name": "stdout",
          "text": [
            "Abhishek\n",
            "25\n"
          ]
        }
      ]
    },
    {
      "cell_type": "code",
      "source": [
        "#4. Default Return Value\n",
        "\n",
        "def say_hello():\n",
        "    print(\"Hello!\")\n",
        "result = say_hello()\n",
        "print(result)\n"
      ],
      "metadata": {
        "colab": {
          "base_uri": "https://localhost:8080/"
        },
        "id": "PCcxs3V8-vRp",
        "outputId": "77d82e32-e896-4ff5-ece5-855e5fb1545d"
      },
      "execution_count": 9,
      "outputs": [
        {
          "output_type": "stream",
          "name": "stdout",
          "text": [
            "Hello!\n",
            "None\n"
          ]
        }
      ]
    },
    {
      "cell_type": "code",
      "source": [
        "#5. Conditional Return\n",
        "\n",
        "def evaluate_grade(score):\n",
        "    if score >= 90:\n",
        "        return \"A\"\n",
        "    elif score >= 80:\n",
        "        return \"B\"\n",
        "    else:\n",
        "        return \"C\"\n",
        "\n",
        "# Calling the function\n",
        "print(evaluate_grade(85))\n"
      ],
      "metadata": {
        "colab": {
          "base_uri": "https://localhost:8080/"
        },
        "id": "He1hJEbM--32",
        "outputId": "3ada2be9-f440-4984-f59f-095622627316"
      },
      "execution_count": 10,
      "outputs": [
        {
          "output_type": "stream",
          "name": "stdout",
          "text": [
            "B\n"
          ]
        }
      ]
    },
    {
      "cell_type": "code",
      "source": [
        "#6. Return with Expressions\n",
        "\n",
        "def square_plus_one(x):\n",
        "    return x ** 2 + 1\n",
        "\n",
        "print(square_plus_one(4))\n"
      ],
      "metadata": {
        "colab": {
          "base_uri": "https://localhost:8080/"
        },
        "id": "x20l7STN_5ZU",
        "outputId": "95143a29-b934-48e8-c5b6-8022e2349d32"
      },
      "execution_count": 12,
      "outputs": [
        {
          "output_type": "stream",
          "name": "stdout",
          "text": [
            "17\n"
          ]
        }
      ]
    },
    {
      "cell_type": "markdown",
      "source": [
        "#5. What are iterators in Python and how do they differ from iterables?\n",
        "- An iterator is an object that represents a stream of data and can be iterated over one item at a time. It implements:\n",
        "\n",
        "1. The __iter__() method (returns the iterator object itself).\n",
        "2. The __next__() method (returns the next item in the sequence)."
      ],
      "metadata": {
        "id": "TKgaQEHM9_vw"
      }
    },
    {
      "cell_type": "code",
      "source": [
        "class Counter:\n",
        "    def __init__(self, start, end):\n",
        "        self.current = start\n",
        "        self.end = end\n",
        "\n",
        "    def __iter__(self):\n",
        "        return self\n",
        "\n",
        "    def __next__(self):\n",
        "        if self.current >= self.end:\n",
        "            raise StopIteration\n",
        "        self.current += 1\n",
        "        return self.current - 1\n",
        "\n",
        "# Using the custom iterator\n",
        "counter = Counter(1, 5)\n",
        "for number in counter:\n",
        "    print(number)\n"
      ],
      "metadata": {
        "colab": {
          "base_uri": "https://localhost:8080/"
        },
        "id": "uFpedFnLAnT8",
        "outputId": "3d38e334-416a-4bea-985b-895878020075"
      },
      "execution_count": 13,
      "outputs": [
        {
          "output_type": "stream",
          "name": "stdout",
          "text": [
            "1\n",
            "2\n",
            "3\n",
            "4\n"
          ]
        }
      ]
    },
    {
      "cell_type": "markdown",
      "source": [
        "#6.  Explain the concept of generators in Python and how they are defined.\n",
        "- Generators in Python are a special type of iterable that allow you to generate values on the fly, one at a time, instead of storing them in memory all at once. They are useful for handling large datasets or streams of data efficiently.\n",
        "There are two main ways to create generators in Python:\n",
        "\n"
      ],
      "metadata": {
        "id": "TWGECVfzArou"
      }
    },
    {
      "cell_type": "code",
      "source": [
        "#1. Using a Function with yield\n",
        "\n",
        "def count_up_to(n):\n",
        "    count = 1\n",
        "    while count <= n:\n",
        "        yield count\n",
        "        count += 1\n",
        "\n",
        "# Using the generator\n",
        "gen = count_up_to(5)\n",
        "print(next(gen))\n",
        "print(next(gen))\n",
        "print(next(gen))\n",
        "\n",
        "for value in gen:\n",
        "    print(value)\n"
      ],
      "metadata": {
        "colab": {
          "base_uri": "https://localhost:8080/"
        },
        "id": "QONd_TgTBzEO",
        "outputId": "47fbebba-9b9f-46ad-f5f7-e8dae4df90e5"
      },
      "execution_count": 14,
      "outputs": [
        {
          "output_type": "stream",
          "name": "stdout",
          "text": [
            "1\n",
            "2\n",
            "3\n",
            "4\n",
            "5\n"
          ]
        }
      ]
    },
    {
      "cell_type": "code",
      "source": [
        "#2. Using Generator Expressions\n",
        "\n",
        "gen = (x ** 2 for x in range(5))\n",
        "print(next(gen))\n",
        "print(next(gen))\n",
        "\n",
        "for value in gen:\n",
        "    print(value)\n"
      ],
      "metadata": {
        "colab": {
          "base_uri": "https://localhost:8080/"
        },
        "id": "bN4S-7iiAoJL",
        "outputId": "008d2a93-6b94-49bc-967f-3619e676e506"
      },
      "execution_count": 15,
      "outputs": [
        {
          "output_type": "stream",
          "name": "stdout",
          "text": [
            "0\n",
            "1\n",
            "4\n",
            "9\n",
            "16\n"
          ]
        }
      ]
    },
    {
      "cell_type": "markdown",
      "source": [
        "#7. What are the advantages of using generators over regular functions?\n",
        "\n",
        "- Generators provide several advantages over regular functions, especially when dealing with large datasets or operations that require efficient memory usage and lazy evaluation"
      ],
      "metadata": {
        "id": "aADQKFniCMTu"
      }
    },
    {
      "cell_type": "code",
      "source": [
        "#1. Memory Efficiency\n",
        "\n",
        "# Regular Function\n",
        "def generate_list(n):\n",
        "    return [i for i in range(n)]\n",
        "\n",
        "# Generator Function\n",
        "def generate_numbers(n):\n",
        "    for i in range(n):\n",
        "        yield i\n",
        "\n",
        "large_list = generate_list(10**6)\n",
        "large_gen = generate_numbers(10**6)\n"
      ],
      "metadata": {
        "id": "ttsb3dNdCtk3"
      },
      "execution_count": 20,
      "outputs": []
    },
    {
      "cell_type": "code",
      "source": [
        "#2. Lazy Evaluation\n",
        "\n",
        "def lazy_range(n):\n",
        "    for i in range(n):\n",
        "        yield i\n",
        "\n",
        "for number in lazy_range(5):\n",
        "    print(number)\n"
      ],
      "metadata": {
        "colab": {
          "base_uri": "https://localhost:8080/"
        },
        "id": "d_suEgsxCDzk",
        "outputId": "2c94f659-af23-4185-de65-5572f321cd9d"
      },
      "execution_count": 18,
      "outputs": [
        {
          "output_type": "stream",
          "name": "stdout",
          "text": [
            "0\n",
            "1\n",
            "2\n",
            "3\n",
            "4\n"
          ]
        }
      ]
    },
    {
      "cell_type": "code",
      "source": [
        "#3. Infinite Sequences\n",
        "\n",
        "def infinite_numbers():\n",
        "    n = 0\n",
        "    while True:\n",
        "        yield n\n",
        "        n += 1\n",
        "\n",
        "gen = infinite_numbers()\n",
        "print(next(gen))\n",
        "print(next(gen))\n"
      ],
      "metadata": {
        "colab": {
          "base_uri": "https://localhost:8080/"
        },
        "id": "G-tf212TC_ur",
        "outputId": "52c6a915-ec5e-44e1-c3df-3f0b33aa1d54"
      },
      "execution_count": 21,
      "outputs": [
        {
          "output_type": "stream",
          "name": "stdout",
          "text": [
            "0\n",
            "1\n"
          ]
        }
      ]
    },
    {
      "cell_type": "markdown",
      "source": [
        "#8. What is a lambda function in Python and when is it typically used?\n",
        "\n",
        "- A lambda function in Python is an anonymous (unnamed) function defined using the lambda keyword. It can have any number of arguments but only one expression, which is evaluated and returned."
      ],
      "metadata": {
        "id": "QSoDe8TNDbm2"
      }
    },
    {
      "cell_type": "code",
      "source": [
        "square = lambda x: x ** 2\n",
        "print(square(5))\n"
      ],
      "metadata": {
        "colab": {
          "base_uri": "https://localhost:8080/"
        },
        "id": "4Xb5qa0SDJoe",
        "outputId": "1d21a445-0729-416e-991b-e6c77c94a212"
      },
      "execution_count": 22,
      "outputs": [
        {
          "output_type": "stream",
          "name": "stdout",
          "text": [
            "25\n"
          ]
        }
      ]
    },
    {
      "cell_type": "markdown",
      "source": [
        "#9. Explain the purpose and usage of the `map()` function in Python.\n",
        "- The map() function in Python is used to apply a given function to every item in an iterable (e.g., list, tuple, set) and return a map object (an iterator) containing the results. It is a functional programming tool that helps streamline data transformation processes."
      ],
      "metadata": {
        "id": "j92IbZR-D1Po"
      }
    },
    {
      "cell_type": "code",
      "source": [
        "\n",
        "numbers = [1, 2, 3, 4]\n",
        "result = map(lambda x: x * 2, numbers)\n",
        "print(list(result))\n"
      ],
      "metadata": {
        "colab": {
          "base_uri": "https://localhost:8080/"
        },
        "id": "UUoYcc6bDyvL",
        "outputId": "de03cc75-21dc-4f0a-c22c-56763e0440cc"
      },
      "execution_count": 23,
      "outputs": [
        {
          "output_type": "stream",
          "name": "stdout",
          "text": [
            "[2, 4, 6, 8]\n"
          ]
        }
      ]
    },
    {
      "cell_type": "markdown",
      "source": [
        "#10.  What is the difference between `map()`, `reduce()`, and `filter()` functions in Python?\n",
        "- The map(), reduce(), and filter() functions are part of Python's functional programming toolkit. Each serves a unique purpose when working with iterables like lists, tuples, or sets."
      ],
      "metadata": {
        "id": "1nYj_AhlEN-k"
      }
    },
    {
      "cell_type": "code",
      "source": [
        "#1. map() Function\n",
        "\n",
        "numbers = [1, 2, 3, 4]\n",
        "result = map(lambda x: x ** 2, numbers)\n",
        "print(list(result))\n"
      ],
      "metadata": {
        "colab": {
          "base_uri": "https://localhost:8080/"
        },
        "id": "ejp5jm7VDomh",
        "outputId": "b8a775f0-9c8b-4790-bf4c-d633da2c5a03"
      },
      "execution_count": 24,
      "outputs": [
        {
          "output_type": "stream",
          "name": "stdout",
          "text": [
            "[1, 4, 9, 16]\n"
          ]
        }
      ]
    },
    {
      "cell_type": "code",
      "source": [
        "#2. filter() Function\n",
        "\n",
        "numbers = [1, 2, 3, 4, 5, 6]\n",
        "result = filter(lambda x: x % 2 == 0, numbers)\n",
        "print(list(result))"
      ],
      "metadata": {
        "colab": {
          "base_uri": "https://localhost:8080/"
        },
        "id": "e_tmii7bEl9A",
        "outputId": "af41a7f8-28ef-4daf-9da2-1a760386f6d9"
      },
      "execution_count": 25,
      "outputs": [
        {
          "output_type": "stream",
          "name": "stdout",
          "text": [
            "[2, 4, 6]\n"
          ]
        }
      ]
    },
    {
      "cell_type": "code",
      "source": [
        "#3. reduce() Function\n",
        "\n",
        "from functools import reduce\n",
        "\n",
        "numbers = [1, 2, 3, 4]\n",
        "result = reduce(lambda x, y: x * y, numbers)\n",
        "print(result)"
      ],
      "metadata": {
        "colab": {
          "base_uri": "https://localhost:8080/"
        },
        "id": "TEedopsVErWA",
        "outputId": "ab5bbbfb-dbb5-4db3-849d-942ce4726bb2"
      },
      "execution_count": 26,
      "outputs": [
        {
          "output_type": "stream",
          "name": "stdout",
          "text": [
            "24\n"
          ]
        }
      ]
    },
    {
      "cell_type": "markdown",
      "source": [
        "#Practical"
      ],
      "metadata": {
        "id": "peoff2Q3E0MM"
      }
    },
    {
      "cell_type": "code",
      "source": [
        "#1. Write a Python function that takes a list of numbers as input and returns the sum of all even numbers in the list.\n",
        "\n",
        "def sum_of_even_numbers(numbers): # Use filter to get even numbers and sum them\n",
        "    even_numbers = filter(lambda x: x % 2 == 0, numbers)\n",
        "    return sum(even_numbers)\n",
        "\n",
        "numbers = [47, 11, 42, 13, 8, 24]\n",
        "result = sum_of_even_numbers(numbers)\n",
        "print(\"Sum of even numbers:\", result)\n"
      ],
      "metadata": {
        "colab": {
          "base_uri": "https://localhost:8080/"
        },
        "id": "-xLwQkfjEwuF",
        "outputId": "df43b6f3-2956-465a-ae27-0fe530bba79c"
      },
      "execution_count": 27,
      "outputs": [
        {
          "output_type": "stream",
          "name": "stdout",
          "text": [
            "Sum of even numbers: 74\n"
          ]
        }
      ]
    },
    {
      "cell_type": "code",
      "source": [
        "#2. Create a Python function that accepts a string and returns the reverse of that string.\n",
        "\n",
        "def reverse_string(s):\n",
        "    return s[::-1]\n",
        "input_string = \"hello\"\n",
        "result = reverse_string(input_string)\n",
        "print(\"Reversed string:\", result)\n"
      ],
      "metadata": {
        "colab": {
          "base_uri": "https://localhost:8080/"
        },
        "id": "wvez-rnoFlo5",
        "outputId": "bbef34df-d472-4017-a626-d9455c8d612e"
      },
      "execution_count": 28,
      "outputs": [
        {
          "output_type": "stream",
          "name": "stdout",
          "text": [
            "Reversed string: olleh\n"
          ]
        }
      ]
    },
    {
      "cell_type": "code",
      "source": [
        "#3.  Implement a Python function that takes a list of integers and returns a new list containing the squares of each number.\n",
        "\n",
        "def square_numbers(numbers):\n",
        "    return [x ** 2 for x in numbers]\n",
        "input_list = [1, 2, 3, 4, 5]\n",
        "result = square_numbers(input_list)\n",
        "print(\"List of squares:\", result)\n"
      ],
      "metadata": {
        "colab": {
          "base_uri": "https://localhost:8080/"
        },
        "id": "6yxHtYClF0H9",
        "outputId": "3f438077-5f1e-4d43-e40a-9e809c20d235"
      },
      "execution_count": 29,
      "outputs": [
        {
          "output_type": "stream",
          "name": "stdout",
          "text": [
            "List of squares: [1, 4, 9, 16, 25]\n"
          ]
        }
      ]
    },
    {
      "cell_type": "code",
      "source": [
        "#4. Write a Python function that checks if a given number is prime or not from 1 to 200.\n",
        "\n",
        "\n",
        "def is_prime(n):\n",
        "    if n <= 1:\n",
        "        return False\n",
        "    for i in range(2, int(n**0.5) + 1):\n",
        "        if n % i == 0:\n",
        "            return False\n",
        "    return True\n",
        "for num in range(1, 201):\n",
        "    if is_prime(num):\n",
        "        print(num, \"is prime\")\n"
      ],
      "metadata": {
        "colab": {
          "base_uri": "https://localhost:8080/"
        },
        "id": "zbQ7qye0GCTY",
        "outputId": "28ca187d-5431-4f20-a614-89dbbe4496c3"
      },
      "execution_count": 30,
      "outputs": [
        {
          "output_type": "stream",
          "name": "stdout",
          "text": [
            "2 is prime\n",
            "3 is prime\n",
            "5 is prime\n",
            "7 is prime\n",
            "11 is prime\n",
            "13 is prime\n",
            "17 is prime\n",
            "19 is prime\n",
            "23 is prime\n",
            "29 is prime\n",
            "31 is prime\n",
            "37 is prime\n",
            "41 is prime\n",
            "43 is prime\n",
            "47 is prime\n",
            "53 is prime\n",
            "59 is prime\n",
            "61 is prime\n",
            "67 is prime\n",
            "71 is prime\n",
            "73 is prime\n",
            "79 is prime\n",
            "83 is prime\n",
            "89 is prime\n",
            "97 is prime\n",
            "101 is prime\n",
            "103 is prime\n",
            "107 is prime\n",
            "109 is prime\n",
            "113 is prime\n",
            "127 is prime\n",
            "131 is prime\n",
            "137 is prime\n",
            "139 is prime\n",
            "149 is prime\n",
            "151 is prime\n",
            "157 is prime\n",
            "163 is prime\n",
            "167 is prime\n",
            "173 is prime\n",
            "179 is prime\n",
            "181 is prime\n",
            "191 is prime\n",
            "193 is prime\n",
            "197 is prime\n",
            "199 is prime\n"
          ]
        }
      ]
    },
    {
      "cell_type": "code",
      "source": [
        "#5. Create an iterator class in Python that generates the Fibonacci sequence up to a specified number of terms.\n",
        "\n",
        "class FibonacciIterator:\n",
        "    def __init__(self, terms):\n",
        "        self.terms = terms\n",
        "        self.a, self.b = 0, 1\n",
        "        self.count = 0\n",
        "\n",
        "    def __iter__(self):\n",
        "        return self\n",
        "\n",
        "    def __next__(self):\n",
        "        if self.count < self.terms:\n",
        "            fib_number = self.a\n",
        "            self.a, self.b = self.b, self.a + self.b\n",
        "            self.count += 1\n",
        "            return fib_number\n",
        "        else:\n",
        "            raise StopIteration\n",
        "fib = FibonacciIterator(10)\n",
        "for num in fib:\n",
        "    print(num)\n"
      ],
      "metadata": {
        "colab": {
          "base_uri": "https://localhost:8080/"
        },
        "id": "-2tAXI5ZGS4p",
        "outputId": "88fe3f8c-34e9-4433-8f94-82b6418eb536"
      },
      "execution_count": 32,
      "outputs": [
        {
          "output_type": "stream",
          "name": "stdout",
          "text": [
            "0\n",
            "1\n",
            "1\n",
            "2\n",
            "3\n",
            "5\n",
            "8\n",
            "13\n",
            "21\n",
            "34\n"
          ]
        }
      ]
    },
    {
      "cell_type": "code",
      "source": [
        "#6. Write a generator function in Python that yields the powers of 2 up to a given exponent.\n",
        "\n",
        "def powers_of_2(exponent):\n",
        "    for i in range(exponent + 1):\n",
        "        yield 2 ** i\n",
        "for power in powers_of_2(5):\n",
        "    print(power)\n"
      ],
      "metadata": {
        "colab": {
          "base_uri": "https://localhost:8080/"
        },
        "id": "uWdyQWrFGeKq",
        "outputId": "19f3bbeb-c59b-46ba-8780-ba9299fbe01c"
      },
      "execution_count": 33,
      "outputs": [
        {
          "output_type": "stream",
          "name": "stdout",
          "text": [
            "1\n",
            "2\n",
            "4\n",
            "8\n",
            "16\n",
            "32\n"
          ]
        }
      ]
    },
    {
      "cell_type": "code",
      "source": [
        "#7.  Implement a generator function that reads a file line by line and yields each line as a string.\n",
        "\n",
        "def read_file_line_by_line(file_path):\n",
        "    with open(file_path, 'r') as file:\n",
        "        for line in file:\n",
        "            yield line.strip()  # `strip()` removes leading/trailing whitespace\n",
        "\n",
        "# Example usage:\n",
        "file_path = 'example.txt'  # Specify your file path here\n",
        "for line in read_file_line_by_line(file_path):\n",
        "    print(line)\n"
      ],
      "metadata": {
        "id": "_A-BNxB2G-hQ"
      },
      "execution_count": null,
      "outputs": []
    },
    {
      "cell_type": "code",
      "source": [
        "#8. Use a lambda function in Python to sort a list of tuples based on the second element of each tuple.\n",
        "\n",
        "\n",
        "tuples_list = [(1, 3), (2, 1), (4, 2), (5, 5)]\n",
        "sorted_list = sorted(tuples_list, key=lambda x: x[1])\n",
        "print(sorted_list)\n"
      ],
      "metadata": {
        "colab": {
          "base_uri": "https://localhost:8080/"
        },
        "id": "BMGI3FnkHYtT",
        "outputId": "75bfabe9-5495-4e18-982d-d36a25339c96"
      },
      "execution_count": 39,
      "outputs": [
        {
          "output_type": "stream",
          "name": "stdout",
          "text": [
            "[(2, 1), (4, 2), (1, 3), (5, 5)]\n"
          ]
        }
      ]
    },
    {
      "cell_type": "code",
      "source": [
        "#9. Write a Python program that uses `map()` to convert a list of temperatures from Celsius to Fahrenheit\n",
        "\n",
        "\n",
        "\n",
        "def celsius_to_fahrenheit(celsius):\n",
        "    return (celsius * 9/5) + 32\n",
        "celsius_temperatures = [0, 25, 30, 35, 40]\n",
        "fahrenheit_temperatures = list(map(celsius_to_fahrenheit, celsius_temperatures))\n",
        "print(fahrenheit_temperatures)\n"
      ],
      "metadata": {
        "colab": {
          "base_uri": "https://localhost:8080/"
        },
        "id": "4NGCzcKzHi9Z",
        "outputId": "263440f8-7094-46c3-c9c4-ed269c7c83e6"
      },
      "execution_count": 40,
      "outputs": [
        {
          "output_type": "stream",
          "name": "stdout",
          "text": [
            "[32.0, 77.0, 86.0, 95.0, 104.0]\n"
          ]
        }
      ]
    },
    {
      "cell_type": "code",
      "source": [
        "#10.  Create a Python program that uses `filter()` to remove all the vowels from a given string.\n",
        "\n",
        "\n",
        "def is_not_vowel(char):\n",
        "    vowels = \"aeiouAEIOU\"\n",
        "    return char not in vowels\n",
        "input_string = \"Hello, World!\"\n",
        "filtered_string = ''.join(filter(is_not_vowel, input_string))\n",
        "print(filtered_string)\n",
        "\n",
        "\n"
      ],
      "metadata": {
        "colab": {
          "base_uri": "https://localhost:8080/"
        },
        "id": "TWMeutWjHzhq",
        "outputId": "17b74237-d56f-43e1-f457-554eb90d24cf"
      },
      "execution_count": 41,
      "outputs": [
        {
          "output_type": "stream",
          "name": "stdout",
          "text": [
            "Hll, Wrld!\n"
          ]
        }
      ]
    },
    {
      "cell_type": "code",
      "source": [
        "#11. Imagine an accounting routine used in a book shop. It works on a list with sublists, which look like this:\n",
        "Write a Python program, which returns a list with 2-tuples. Each tuple consists of the order number and the\n",
        "product of the price per item and the quantity. The product should be increased by 10,- € if the value of the\n",
        "order is smaller than 100,00 €.\n",
        "\n",
        "Write a Python program using lambda and map.\n",
        "\n",
        "\n"
      ],
      "metadata": {
        "id": "xUUW0WL6IDux"
      },
      "execution_count": null,
      "outputs": []
    }
  ]
}